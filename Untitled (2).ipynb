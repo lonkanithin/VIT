{
 "cells": [
  {
   "cell_type": "code",
   "execution_count": null,
   "id": "fe1c24cd",
   "metadata": {},
   "outputs": [],
   "source": []
  },
  {
   "cell_type": "code",
   "execution_count": 2,
   "id": "e7fea34b",
   "metadata": {},
   "outputs": [
    {
     "name": "stderr",
     "output_type": "stream",
     "text": [
      "C:\\Users\\Nithin Lonka\\anaconda3\\lib\\site-packages\\tensorflow_addons\\utils\\tfa_eol_msg.py:23: UserWarning: \n",
      "\n",
      "TensorFlow Addons (TFA) has ended development and introduction of new features.\n",
      "TFA has entered a minimal maintenance and release mode until a planned end of life in May 2024.\n",
      "Please modify downstream libraries to take dependencies from other repositories in our TensorFlow community (e.g. Keras, Keras-CV, and Keras-NLP). \n",
      "\n",
      "For more information see: https://github.com/tensorflow/addons/issues/2807 \n",
      "\n",
      "  warnings.warn(\n",
      "C:\\Users\\Nithin Lonka\\anaconda3\\lib\\site-packages\\tensorflow_addons\\utils\\ensure_tf_install.py:53: UserWarning: Tensorflow Addons supports using Python ops for all Tensorflow versions above or equal to 2.10.0 and strictly below 2.13.0 (nightly versions are not supported). \n",
      " The versions of TensorFlow you are currently using is 2.8.0 and is not supported. \n",
      "Some things might work, some things might not.\n",
      "If you were to encounter a bug, do not file an issue.\n",
      "If you want to make sure you're using a tested and supported configuration, either change the TensorFlow version or the TensorFlow Addons's version. \n",
      "You can find the compatibility matrix in TensorFlow Addon's readme:\n",
      "https://github.com/tensorflow/addons\n",
      "  warnings.warn(\n"
     ]
    }
   ],
   "source": [
    "import numpy as np\n",
    "import tensorflow as tf\n",
    "from tensorflow import keras\n",
    "from tensorflow.keras import layers\n",
    "import tensorflow_addons as tfa"
   ]
  },
  {
   "cell_type": "code",
   "execution_count": 3,
   "id": "164d711d",
   "metadata": {},
   "outputs": [],
   "source": [
    "#import dataset\n",
    "num_classes =10\n",
    "input_shape=(32,32,3)\n",
    "\n",
    "(x_train,y_train), (x_test,y_test)=keras.datasets.cifar10.load_data()"
   ]
  },
  {
   "cell_type": "code",
   "execution_count": 4,
   "id": "b6f14429",
   "metadata": {},
   "outputs": [],
   "source": [
    "x_train= x_train[:500]\n",
    "y_train= y_train[:500]\n",
    "x_test = x_test[:100]\n",
    "y_test = y_test[:100]"
   ]
  },
  {
   "cell_type": "code",
   "execution_count": 5,
   "id": "c0463a80",
   "metadata": {},
   "outputs": [
    {
     "data": {
      "text/plain": [
       "(500, 32, 32, 3)"
      ]
     },
     "execution_count": 5,
     "metadata": {},
     "output_type": "execute_result"
    }
   ],
   "source": [
    "x_train.shape  "
   ]
  },
  {
   "cell_type": "code",
   "execution_count": 6,
   "id": "3d3fc2af",
   "metadata": {},
   "outputs": [
    {
     "data": {
      "text/plain": [
       "(500, 1)"
      ]
     },
     "execution_count": 6,
     "metadata": {},
     "output_type": "execute_result"
    }
   ],
   "source": [
    "y_train.shape"
   ]
  },
  {
   "cell_type": "code",
   "execution_count": 7,
   "id": "f41a8002",
   "metadata": {},
   "outputs": [
    {
     "data": {
      "text/plain": [
       "(100, 32, 32, 3)"
      ]
     },
     "execution_count": 7,
     "metadata": {},
     "output_type": "execute_result"
    }
   ],
   "source": [
    "x_test.shape"
   ]
  },
  {
   "cell_type": "code",
   "execution_count": 8,
   "id": "6b803418",
   "metadata": {},
   "outputs": [
    {
     "data": {
      "text/plain": [
       "(100, 1)"
      ]
     },
     "execution_count": 8,
     "metadata": {},
     "output_type": "execute_result"
    }
   ],
   "source": [
    "y_test.shape"
   ]
  },
  {
   "cell_type": "markdown",
   "id": "958eefcd",
   "metadata": {},
   "source": [
    "## step 2: Hyper parameter definition"
   ]
  },
  {
   "cell_type": "code",
   "execution_count": 9,
   "id": "1ca533ef",
   "metadata": {},
   "outputs": [],
   "source": [
    "learning_rate = 0.001\n",
    "weight_decay = 0.0001\n",
    "batch_size = 256\n",
    "num_epochs = 30\n",
    "image_size = 72\n",
    "patch_size=6\n",
    "num_patches = (image_size // patch_size)**2\n",
    "projection_dim = 64\n",
    "num_heads = 4\n",
    "transformer_units = [projection_dim*2, projection_dim]\n",
    "transformer_layers =8\n",
    "mlp_head_units=[2048,1024]"
   ]
  },
  {
   "cell_type": "markdown",
   "id": "2c515a52",
   "metadata": {},
   "source": [
    "# step3:build vit classifier model"
   ]
  },
  {
   "cell_type": "markdown",
   "id": "037bd509",
   "metadata": {},
   "source": [
    "## 3.1 data augmentation"
   ]
  },
  {
   "cell_type": "code",
   "execution_count": 10,
   "id": "a5d7b525",
   "metadata": {},
   "outputs": [],
   "source": [
    "data_augmentation = keras.Sequential(\n",
    "    [\n",
    "        layers.Normalization(),\n",
    "        layers.Resizing(image_size, image_size),\n",
    "        layers.RandomFlip(\"horizontal\"),\n",
    "        layers.RandomRotation(factor=0.2),\n",
    "        layers.RandomZoom(height_factor=0.2,width_factor=0.2)\n",
    "    ],\n",
    "    name=\"data_augmentation\",)\n",
    "data_augmentation.layers[0].adapt(x_train)"
   ]
  },
  {
   "cell_type": "markdown",
   "id": "c9d9240c",
   "metadata": {},
   "source": [
    "## 3.2 define MLP architecture"
   ]
  },
  {
   "cell_type": "code",
   "execution_count": 11,
   "id": "24f2b40f",
   "metadata": {},
   "outputs": [],
   "source": [
    "def mlp(x, hidden_units, dropout_rate):\n",
    "    for units in hidden_units:\n",
    "        x =layers.Dense(units,activation = tf.nn.gelu)(x)\n",
    "        x =layers.Dropout(dropout_rate)(x)\n",
    "    return x"
   ]
  },
  {
   "cell_type": "markdown",
   "id": "7a571cbf",
   "metadata": {},
   "source": [
    "## 3.3 patches"
   ]
  },
  {
   "cell_type": "code",
   "execution_count": 12,
   "id": "f2c8cf46",
   "metadata": {},
   "outputs": [],
   "source": [
    "class Patches(layers.Layer):\n",
    "    def __init__(self, patch_size):\n",
    "        super(Patches,self).__init__()\n",
    "        self.patch_size = patch_size\n",
    "        \n",
    "    def call(self, images):\n",
    "        batch_size = tf.shape(images)[0]\n",
    "        patches = tf.image.extract_patches(images=images, sizes =[1, self.patch_size, self.patch_size, 1],\n",
    "                                          strides=[1, self.patch_size, self.patch_size, 1],rates=[1,1,1,1],\n",
    "                                          padding = \"VALID\")\n",
    "        patch_dim= patches.shape[-1]\n",
    "        patches= tf.reshape(patches, [batch_size, -1, patch_dim])\n",
    "        return patches"
   ]
  },
  {
   "cell_type": "code",
   "execution_count": 13,
   "id": "b31e8612",
   "metadata": {},
   "outputs": [
    {
     "data": {
      "image/png": "[encoded data removed]",
      "text/plain": [
       "<Figure size 288x288 with 1 Axes>"
      ]
     },
     "metadata": {
      "needs_background": "light"
     },
     "output_type": "display_data"
    },
    {
     "data": {
      "image/png": "[encoded data removed]",
      "text/plain": [
       "<Figure size 288x288 with 144 Axes>"
      ]
     },
     "metadata": {
      "needs_background": "light"
     },
     "output_type": "display_data"
    }
   ],
   "source": [
    "import matplotlib.pyplot as plt\n",
    "\n",
    "plt.figure(figsize=(4,4))\n",
    "image = x_train[np.random.choice(range(x_train.shape[0]))]\n",
    "plt.imshow(image)\n",
    "plt.axis('off')\n",
    "\n",
    "resized_image = tf.image.resize(tf.convert_to_tensor([image]), size=(image_size, image_size))\n",
    "patches = Patches(patch_size)(resized_image)\n",
    "\n",
    "n=int(np.sqrt(patches.shape[1]))\n",
    "plt.figure(figsize=(4,4))\n",
    "for i, patch in enumerate(patches[0]):\n",
    "    ax = plt.subplot(n,n,i+1)\n",
    "    patch_imag = tf.reshape(patch, (patch_size, patch_size, 3))\n",
    "    plt.imshow(patch_imag.numpy().astype('uint8'))\n",
    "    plt.axis('off')"
   ]
  },
  {
   "cell_type": "code",
   "execution_count": 14,
   "id": "4ea1a216",
   "metadata": {},
   "outputs": [],
   "source": [
    "class PatchEncoder(layers.Layer):\n",
    "    def __init__(self, num_patches, projection_dim):\n",
    "        super(PatchEncoder, self).__init__()\n",
    "        self.num_patches = num_patches\n",
    "        self.projection = layers.Dense(units=projection_dim)\n",
    "        self.position_embedding = layers.Embedding(input_dim=num_patches, output_dim=projection_dim)\n",
    "        \n",
    "    def call(self, patch):\n",
    "        positions = tf.range(start=0, limit=self.num_patches, delta=1)\n",
    "        encoded = self.projection(patch) + self.position_embedding(positions)\n",
    "        return encoded"
   ]
  },
  {
   "cell_type": "code",
   "execution_count": 15,
   "id": "fc5f66fb",
   "metadata": {},
   "outputs": [],
   "source": [
    "def create_vit_classifier():\n",
    "    inputs = layers.Input(shape=input_shape)\n",
    "    augmentation = data_augmentation(inputs)\n",
    "    patches = Patches(patch_size)(augmentation)\n",
    "    encoded_patches = PatchEncoder(num_patches, projection_dim)(patches)\n",
    "    \n",
    "    for _ in range(transformer_layers):\n",
    "        x1 = layers.LayerNormalization(epsilon=1e-6)(encoded_patches)\n",
    "        attention_output = layers.MultiHeadAttention(num_heads=num_heads, key_dim=projection_dim, dropout=0.1)(x1,x1)\n",
    "        x2 = layers.Add()([attention_output, encoded_patches])\n",
    "        x3 = layers.LayerNormalization(epsilon=1e-6)(x2)\n",
    "        x4 = mlp(x3, hidden_units=transformer_units, dropout_rate=0.1)\n",
    "        encoded_patches = layers.Add()([x4,x2])\n",
    "        \n",
    "    representation = layers.LayerNormalization(epsilon=1e-6)(encoded_patches)\n",
    "    representation = layers.Flatten()(representation)\n",
    "    representation = layers.Dropout(0.5)(representation)\n",
    "    \n",
    "    features = mlp(representation, hidden_units=mlp_head_units, dropout_rate=0.5)\n",
    "    logits = layers.Dense(num_classes)(features)\n",
    "    \n",
    "    model = keras.Model(inputs=inputs, outputs=logits)\n",
    "    return model"
   ]
  },
  {
   "cell_type": "code",
   "execution_count": 16,
   "id": "943bb60d",
   "metadata": {},
   "outputs": [],
   "source": [
    "def run(model):\n",
    "    optimizer = tfa.optimizers.AdamW(learning_rate=learning_rate, weight_decay= weight_decay)\n",
    "    \n",
    "    model.compile(optimizer=optimizer, loss=keras.losses.SparseCategoricalCrossentropy(from_logits=True),\n",
    "                 metrics = [keras.metrics.SparseCategoricalAccuracy(name=\"accuracy\"),\n",
    "                           keras.metrics.SparseTopKCategoricalAccuracy(5, name=\"top_5_accuracy\"),],)\n",
    "    checkpoint_filepath = \"./tmp/checkpoint\"\n",
    "    checkpoint_callback = keras.callbacks.ModelCheckpoint(checkpoint_filepath, monitor=\"val_accuracy\",\n",
    "                                                         save_best_only=True, save_weights_only=True)\n",
    "    \n",
    "    history = model.fit(x=x_train, y=y_train, batch_size=batch_size, epochs=num_epochs, validation_split=0.1,\n",
    "                       callbacks=[checkpoint_callback],)\n",
    "    \n",
    "    _, accuracy, top_5_accuracy =model.evaluate(x_test, y_test)\n",
    "    print(f\"Test Accuracy: {round(accuracy *100, 2)}%\")\n",
    "    print(f\"Test top 5 Accuracy: {round(top_5_accuracy *100, 2)}%\")"
   ]
  },
  {
   "cell_type": "code",
   "execution_count": 17,
   "id": "b62f90e5",
   "metadata": {},
   "outputs": [
    {
     "name": "stdout",
     "output_type": "stream",
     "text": [
      "Epoch 1/30\n",
      "2/2 [==============================] - 69s 25s/step - loss: 6.0852 - accuracy: 0.1378 - top_5_accuracy: 0.5356 - val_loss: 4.2511 - val_accuracy: 0.2600 - val_top_5_accuracy: 0.7000\n",
      "Epoch 2/30\n",
      "2/2 [==============================] - 48s 14s/step - loss: 5.9965 - accuracy: 0.1756 - top_5_accuracy: 0.6222 - val_loss: 4.6996 - val_accuracy: 0.1600 - val_top_5_accuracy: 0.6000\n",
      "Epoch 3/30\n",
      "2/2 [==============================] - 41s 17s/step - loss: 4.7327 - accuracy: 0.2022 - top_5_accuracy: 0.6667 - val_loss: 2.1806 - val_accuracy: 0.3200 - val_top_5_accuracy: 0.7800\n",
      "Epoch 4/30\n",
      "2/2 [==============================] - 40s 14s/step - loss: 3.3438 - accuracy: 0.1822 - top_5_accuracy: 0.6822 - val_loss: 2.0484 - val_accuracy: 0.2200 - val_top_5_accuracy: 0.8000\n",
      "Epoch 5/30\n",
      "2/2 [==============================] - 41s 15s/step - loss: 2.9007 - accuracy: 0.1978 - top_5_accuracy: 0.7089 - val_loss: 1.9442 - val_accuracy: 0.2400 - val_top_5_accuracy: 0.8600\n",
      "Epoch 6/30\n",
      "2/2 [==============================] - 46s 18s/step - loss: 2.6099 - accuracy: 0.2356 - top_5_accuracy: 0.6978 - val_loss: 1.8564 - val_accuracy: 0.3200 - val_top_5_accuracy: 0.8600\n",
      "Epoch 7/30\n",
      "2/2 [==============================] - 56s 19s/step - loss: 2.4109 - accuracy: 0.2756 - top_5_accuracy: 0.7067 - val_loss: 1.8522 - val_accuracy: 0.2200 - val_top_5_accuracy: 0.8200\n",
      "Epoch 8/30\n",
      "2/2 [==============================] - 45s 15s/step - loss: 2.4198 - accuracy: 0.2222 - top_5_accuracy: 0.7000 - val_loss: 1.9957 - val_accuracy: 0.2000 - val_top_5_accuracy: 0.7600\n",
      "Epoch 9/30\n",
      "2/2 [==============================] - 55s 18s/step - loss: 2.2136 - accuracy: 0.2467 - top_5_accuracy: 0.7844 - val_loss: 2.0254 - val_accuracy: 0.1600 - val_top_5_accuracy: 0.7400\n",
      "Epoch 10/30\n",
      "2/2 [==============================] - 45s 18s/step - loss: 2.2844 - accuracy: 0.2356 - top_5_accuracy: 0.7467 - val_loss: 1.9348 - val_accuracy: 0.2200 - val_top_5_accuracy: 0.7400\n",
      "Epoch 11/30\n",
      "2/2 [==============================] - 46s 14s/step - loss: 2.2385 - accuracy: 0.2311 - top_5_accuracy: 0.7511 - val_loss: 1.9237 - val_accuracy: 0.1600 - val_top_5_accuracy: 0.8400\n",
      "Epoch 12/30\n",
      "2/2 [==============================] - 35s 13s/step - loss: 2.0480 - accuracy: 0.2800 - top_5_accuracy: 0.8222 - val_loss: 1.9851 - val_accuracy: 0.1800 - val_top_5_accuracy: 0.8400\n",
      "Epoch 13/30\n",
      "2/2 [==============================] - 35s 12s/step - loss: 2.1025 - accuracy: 0.2844 - top_5_accuracy: 0.7711 - val_loss: 1.9910 - val_accuracy: 0.2200 - val_top_5_accuracy: 0.8000\n",
      "Epoch 14/30\n",
      "2/2 [==============================] - 44s 13s/step - loss: 2.0388 - accuracy: 0.2867 - top_5_accuracy: 0.8111 - val_loss: 1.9948 - val_accuracy: 0.2200 - val_top_5_accuracy: 0.7800\n",
      "Epoch 15/30\n",
      "2/2 [==============================] - 38s 14s/step - loss: 2.0537 - accuracy: 0.3178 - top_5_accuracy: 0.8000 - val_loss: 1.9783 - val_accuracy: 0.1600 - val_top_5_accuracy: 0.8000\n",
      "Epoch 16/30\n",
      "2/2 [==============================] - 40s 14s/step - loss: 2.0212 - accuracy: 0.3178 - top_5_accuracy: 0.7956 - val_loss: 1.9895 - val_accuracy: 0.1600 - val_top_5_accuracy: 0.8400\n",
      "Epoch 17/30\n",
      "2/2 [==============================] - 36s 12s/step - loss: 1.9985 - accuracy: 0.3022 - top_5_accuracy: 0.8089 - val_loss: 2.0447 - val_accuracy: 0.1800 - val_top_5_accuracy: 0.8200\n",
      "Epoch 18/30\n",
      "2/2 [==============================] - 40s 14s/step - loss: 1.9995 - accuracy: 0.2911 - top_5_accuracy: 0.8267 - val_loss: 2.0364 - val_accuracy: 0.1600 - val_top_5_accuracy: 0.7800\n",
      "Epoch 19/30\n",
      "2/2 [==============================] - 39s 13s/step - loss: 1.9249 - accuracy: 0.3444 - top_5_accuracy: 0.8111 - val_loss: 1.9629 - val_accuracy: 0.2000 - val_top_5_accuracy: 0.8200\n",
      "Epoch 20/30\n",
      "2/2 [==============================] - 43s 15s/step - loss: 1.8973 - accuracy: 0.3156 - top_5_accuracy: 0.8111 - val_loss: 1.9197 - val_accuracy: 0.2600 - val_top_5_accuracy: 0.8200\n",
      "Epoch 21/30\n",
      "2/2 [==============================] - 51s 17s/step - loss: 1.9029 - accuracy: 0.3244 - top_5_accuracy: 0.8400 - val_loss: 1.8762 - val_accuracy: 0.3000 - val_top_5_accuracy: 0.8600\n",
      "Epoch 22/30\n",
      "2/2 [==============================] - 54s 21s/step - loss: 1.8608 - accuracy: 0.3444 - top_5_accuracy: 0.8311 - val_loss: 1.8595 - val_accuracy: 0.3200 - val_top_5_accuracy: 0.8400\n",
      "Epoch 23/30\n",
      "2/2 [==============================] - 55s 17s/step - loss: 1.8814 - accuracy: 0.3444 - top_5_accuracy: 0.8156 - val_loss: 1.8695 - val_accuracy: 0.3000 - val_top_5_accuracy: 0.8600\n",
      "Epoch 24/30\n",
      "2/2 [==============================] - 39s 16s/step - loss: 1.7963 - accuracy: 0.3333 - top_5_accuracy: 0.8556 - val_loss: 1.9039 - val_accuracy: 0.2600 - val_top_5_accuracy: 0.8000\n",
      "Epoch 25/30\n",
      "2/2 [==============================] - 51s 18s/step - loss: 1.8483 - accuracy: 0.3467 - top_5_accuracy: 0.8222 - val_loss: 1.8641 - val_accuracy: 0.2800 - val_top_5_accuracy: 0.8400\n",
      "Epoch 26/30\n",
      "2/2 [==============================] - 56s 18s/step - loss: 1.7300 - accuracy: 0.3800 - top_5_accuracy: 0.8756 - val_loss: 1.8285 - val_accuracy: 0.2600 - val_top_5_accuracy: 0.8600\n",
      "Epoch 27/30\n",
      "2/2 [==============================] - 47s 16s/step - loss: 1.8297 - accuracy: 0.3444 - top_5_accuracy: 0.8867 - val_loss: 1.8674 - val_accuracy: 0.2200 - val_top_5_accuracy: 0.8600\n",
      "Epoch 28/30\n",
      "2/2 [==============================] - 54s 16s/step - loss: 1.7619 - accuracy: 0.3689 - top_5_accuracy: 0.8689 - val_loss: 1.8476 - val_accuracy: 0.2800 - val_top_5_accuracy: 0.8400\n",
      "Epoch 29/30\n",
      "2/2 [==============================] - 44s 14s/step - loss: 1.7797 - accuracy: 0.3511 - top_5_accuracy: 0.8667 - val_loss: 1.8978 - val_accuracy: 0.2800 - val_top_5_accuracy: 0.8200\n",
      "Epoch 30/30\n",
      "2/2 [==============================] - 40s 15s/step - loss: 1.6620 - accuracy: 0.4133 - top_5_accuracy: 0.8800 - val_loss: 1.9312 - val_accuracy: 0.2400 - val_top_5_accuracy: 0.8800\n",
      "4/4 [==============================] - 2s 407ms/step - loss: 1.8052 - accuracy: 0.2900 - top_5_accuracy: 0.9100\n",
      "Test Accuracy: 29.0%\n",
      "Test top 5 Accuracy: 91.0%\n"
     ]
    }
   ],
   "source": [
    "vit_classifier = create_vit_classifier()\n",
    "history = run(vit_classifier)"
   ]
  },
  {
   "cell_type": "code",
   "execution_count": 18,
   "id": "63059d57",
   "metadata": {},
   "outputs": [],
   "source": [
    "class_names = [\n",
    "                'airplane',\n",
    "                'automobile',\n",
    "                'bird',\n",
    "                'cat',\n",
    "                'deer',\n",
    "                'dog',\n",
    "                'frog',\n",
    "                'horse',\n",
    "                'ship',\n",
    "                'truck'\n",
    "]"
   ]
  },
  {
   "cell_type": "code",
   "execution_count": 19,
   "id": "5e9e117b",
   "metadata": {},
   "outputs": [],
   "source": [
    "def img_predict(images, model):\n",
    "    \n",
    "    if len(images.shape) == 3:\n",
    "        out = model.predict(images.reshape(-1,*images.shape))\n",
    "    else:\n",
    "        out = model.predict(images)\n",
    "    prediction = np.argmax(out, axis = 1)\n",
    "    img_prediction = [class_names[i] for i in prediction]\n",
    "    return img_prediction"
   ]
  },
  {
   "cell_type": "code",
   "execution_count": 25,
   "id": "fe9c6e07",
   "metadata": {},
   "outputs": [
    {
     "name": "stdout",
     "output_type": "stream",
     "text": [
      "['truck']\n"
     ]
    },
    {
     "data": {
      "image/png": "[encoded data removed]",
      "text/plain": [
       "<Figure size 432x288 with 1 Axes>"
      ]
     },
     "metadata": {
      "needs_background": "light"
     },
     "output_type": "display_data"
    }
   ],
   "source": [
    "index = 11\n",
    "plt.imshow(x_test[index])\n",
    "prediction = img_predict(x_test[index], vit_classifier)\n",
    "print(prediction)"
   ]
  },
  {
   "cell_type": "code",
   "execution_count": null,
   "id": "ce54bdac",
   "metadata": {},
   "outputs": [],
   "source": []
  }
 ],
 "metadata": {
  "kernelspec": {
   "display_name": "Python 3 (ipykernel)",
   "language": "python",
   "name": "python3"
  },
  "language_info": {
   "codemirror_mode": {
    "name": "ipython",
    "version": 3
   },
   "file_extension": ".py",
   "mimetype": "text/x-python",
   "name": "python",
   "nbconvert_exporter": "python",
   "pygments_lexer": "ipython3",
   "version": "3.9.12"
  }
 },
 "nbformat": 4,
 "nbformat_minor": 5
}
